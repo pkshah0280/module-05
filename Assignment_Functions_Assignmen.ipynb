{
  "nbformat": 4,
  "nbformat_minor": 0,
  "metadata": {
    "colab": {
      "provenance": []
    },
    "kernelspec": {
      "name": "python3",
      "display_name": "Python 3"
    },
    "language_info": {
      "name": "python"
    }
  },
  "cells": [
    {
      "cell_type": "markdown",
      "source": [
        "1.  What is the difference between a function and a method in Python?\n",
        "  - In Python, the primary distinction between a function and a method lies in their association with objects. A function is a standalone block of code defined independently, while a method is a function that is associated with an object of a class."
      ],
      "metadata": {
        "id": "LnukHjOoKq-b"
      }
    },
    {
      "cell_type": "markdown",
      "source": [
        "2.  Explain the concept of function arguments and parameters in Python.\n",
        "  - In Python, functions can accept inputs, which are specified using parameters and provided as arguments when the function is called. Parameters are the names defined in the function definition, while arguments are the actual values passed to the function during a call."
      ],
      "metadata": {
        "id": "At2DF3KRK-99"
      }
    },
    {
      "cell_type": "markdown",
      "source": [
        "3.  What are the different ways to define and call a function in Python?\n",
        "  - Functions in Python can be defined and called in several ways:\n",
        "      1. Regular function definition\n",
        "Uses the def keyword, followed by the function name, parentheses for arguments, and a colon. The function body is indented.\n",
        "      2. Lambda functions\n",
        "Anonymous, single-expression functions defined using the lambda keyword.\n",
        "      3. Nested functions\n",
        "Defining a function inside another function.\n",
        "      4. Recursive functions\n",
        "A function that calls itself.\n",
        "      5. Functions with default arguments\n",
        "Assigning default values to arguments in the function definition.\n"
      ],
      "metadata": {
        "id": "gaMqDOa_LV5t"
      }
    },
    {
      "cell_type": "markdown",
      "source": [
        "4. What is the purpose of the `return` statement in a Python function?\n",
        "  - The return statement in a Python function serves two primary purposes:\n",
        "Exiting the Function:  \n",
        "    When a return statement is encountered within a function, it immediately terminates the execution of the function, regardless of whether there are more lines of code to be executed within the function's block. Control is then passed back to the caller, which is the part of the code that invoked the function.\n",
        "\n",
        "    Returning a Value:\n",
        "\n",
        "    The return statement can optionally return a value (or multiple values as a tuple) to the caller. This returned value can then be used for further processing, assigned to variables, or simply ignored. If no expression is provided after the return keyword, or if the return statement is omitted entirely, the function will return None by default."
      ],
      "metadata": {
        "id": "TmO3kSbGMBVq"
      }
    },
    {
      "cell_type": "markdown",
      "source": [
        " 5. What are iterators in Python and how do they differ from iterables?\n",
        "  - An Iterable is basically an object that any user can iterate over. An Iterator is also an object that helps a user in iterating over another object (that is iterable). We can generate an iterator when we pass the object to the iter() method."
      ],
      "metadata": {
        "id": "WxrASZ_wNKf_"
      }
    },
    {
      "cell_type": "markdown",
      "source": [
        "6.  Explain the concept of generators in Python and how they are defined.\n",
        "  -  A Python generator function allows you to declare a function that behaves like an iterator, providing a faster and easier way to create iterators. They can be used on an abstract container of data to turn it into an iterable object like lists, dictionaries and strings."
      ],
      "metadata": {
        "id": "JIEGfNaSNZlN"
      }
    },
    {
      "cell_type": "markdown",
      "source": [
        "7.  What are the advantages of using generators over regular functions?\n",
        "  - Generators offer several advantages over regular functions, primarily stemming from their ability to produce values on-demand and manage state efficiently. This makes them memory-efficient, ideal for handling large or infinite sequences, and suitable for tasks requiring lazy evaluation."
      ],
      "metadata": {
        "id": "WDrqwdLKNtiq"
      }
    },
    {
      "cell_type": "markdown",
      "source": [
        "8. What is a lambda function in Python and when is it typically used?\n",
        "  - In Python, a lambda function is a small, anonymous function that can take any number of arguments but can only have one expression. It's essentially a shorthand way to define a function that you'll likely only use once.\n",
        "  - Lambda functions are typically used in situations where you need a quick, simple function for a specific task, especially when passing functions as arguments to other functions like map(), filter(), or sorted(). They help to keep the code concise and avoid the need for a full function definition when a simple operation is sufficient.\n"
      ],
      "metadata": {
        "id": "HYwl1vh0N_H4"
      }
    },
    {
      "cell_type": "markdown",
      "source": [
        "9. Explain the purpose and usage of the `map()` function in Python.\n",
        "  - The map() function in Python applies a given function to each item of an iterable (like a list or tuple) and returns an iterator that yields the results. Its primary purpose is to transform or process all elements in an iterable without the need for explicit loops, promoting cleaner and more concise code."
      ],
      "metadata": {
        "id": "LzHLV3YPOYr0"
      }
    },
    {
      "cell_type": "markdown",
      "source": [
        "10. What is the difference between `map()`, `reduce()`, and `filter()` functions in Python?\n",
        "  - map(), filter(), and reduce() are built-in functions in Python that operate on iterables (like lists, tuples, etc.) but in distinct ways:\n",
        "  - map(): Applies a given function to each item of an iterable and returns an iterator that yields the results. It transforms each element individually.\n",
        "  - filter(): Constructs an iterator from elements of an iterable for which a function returns true. It selectively keeps elements based on a condition.\n",
        "  - reduce(): Applies a function of two arguments cumulatively to the items of an iterable, from left to right, to reduce the iterable to a single value. It aggregates elements. It is available in the functools module.\n",
        "  - map() transforms each item individually.\n",
        "  - filter() selects items based on a condition.\n",
        "  - reduce() aggregates items into a single result."
      ],
      "metadata": {
        "id": "bgIswnDuOnjc"
      }
    },
    {
      "cell_type": "markdown",
      "source": [
        "11.  Using pen & Paper write the internal mechanism for sum operation using  reduce function on this given\n",
        "list:[47,11,42,13];\n",
        "  -  reduce(add, [47, 11, 42, 13])\n",
        "    => add(47, 11) -> 58\n",
        "    => add(58, 42) -> 100\n",
        "    => add(100, 13) -> 113\n"
      ],
      "metadata": {
        "id": "lz6OIR08Pp5J"
      }
    },
    {
      "cell_type": "markdown",
      "source": [
        "Practical Questions:"
      ],
      "metadata": {
        "id": "zTDLlJkfeyDh"
      }
    },
    {
      "cell_type": "markdown",
      "source": [
        "1.  Write a Python function that takes a list of numbers as input and returns the sum of all even numbers in\n",
        "the list."
      ],
      "metadata": {
        "id": "l1FGV338e-sA"
      }
    },
    {
      "cell_type": "code",
      "source": [
        "my_list = [47, 11, 42, 13]\n",
        "result = sum_of_evens(my_list)\n",
        "print(result)\n"
      ],
      "metadata": {
        "colab": {
          "base_uri": "https://localhost:8080/"
        },
        "id": "NuS_Mff-Png2",
        "outputId": "76794b7b-94dc-42ab-868c-b8a2bf080988"
      },
      "execution_count": 3,
      "outputs": [
        {
          "output_type": "stream",
          "name": "stdout",
          "text": [
            "42\n"
          ]
        }
      ]
    },
    {
      "cell_type": "markdown",
      "source": [
        "2.  Create a Python function that accepts a string and returns the reverse of that string."
      ],
      "metadata": {
        "id": "dykTHTYCfoPS"
      }
    },
    {
      "cell_type": "code",
      "source": [
        "def reverse_string(s):\n",
        "    return s[::-1]"
      ],
      "metadata": {
        "id": "Pl66I37tfV47"
      },
      "execution_count": 9,
      "outputs": []
    },
    {
      "cell_type": "markdown",
      "source": [
        "3.  Implement a Python function that takes a list of integers and returns a new list containing the squares of\n",
        "each number."
      ],
      "metadata": {
        "id": "T3nQd3oqgQ1n"
      }
    },
    {
      "cell_type": "code",
      "source": [
        "def square_numbers(numbers):\n",
        "    return [num ** 2 for num in numbers]\n",
        "\n",
        "\n",
        "squaer = square_numbers([1, 2, 3, 4, 5])\n",
        "print(squaer)"
      ],
      "metadata": {
        "colab": {
          "base_uri": "https://localhost:8080/"
        },
        "id": "YmFXeFsXgOlp",
        "outputId": "0c9ddce7-0b42-49d2-d2ca-3d051aaab104"
      },
      "execution_count": 14,
      "outputs": [
        {
          "output_type": "stream",
          "name": "stdout",
          "text": [
            "[1, 4, 9, 16, 25]\n"
          ]
        }
      ]
    },
    {
      "cell_type": "markdown",
      "source": [
        "4. Write a Python function that checks if a given number is prime or not from 1 to 200."
      ],
      "metadata": {
        "id": "VHaHrCgVgvFE"
      }
    },
    {
      "cell_type": "code",
      "source": [
        "def is_prime(n):\n",
        "    if n < 2:\n",
        "        return False\n",
        "    for i in range(2, int(n**0.5) + 1):\n",
        "        if n % i == 0:\n",
        "            return False\n",
        "    return True\n"
      ],
      "metadata": {
        "id": "IWYS8IxPgYyA"
      },
      "execution_count": 17,
      "outputs": []
    },
    {
      "cell_type": "markdown",
      "source": [
        "5. Create an iterator class in Python that generates the Fibonacci sequence up to a specified number of\n",
        "terms."
      ],
      "metadata": {
        "id": "aZz-VELBh0AB"
      }
    },
    {
      "cell_type": "code",
      "source": [
        "a = 0\n",
        "b = 1\n",
        "for i in range(10):\n",
        "    print(a)\n",
        "    a, b = b, a + b"
      ],
      "metadata": {
        "colab": {
          "base_uri": "https://localhost:8080/"
        },
        "id": "Lr-PY_i3g05Z",
        "outputId": "17465af4-d9b5-46e5-c835-c35fc357b60f"
      },
      "execution_count": 19,
      "outputs": [
        {
          "output_type": "stream",
          "name": "stdout",
          "text": [
            "0\n",
            "1\n",
            "1\n",
            "2\n",
            "3\n",
            "5\n",
            "8\n",
            "13\n",
            "21\n",
            "34\n"
          ]
        }
      ]
    },
    {
      "cell_type": "markdown",
      "source": [
        "6.  Write a generator function in Python that yields the powers of 2 up to a given exponent"
      ],
      "metadata": {
        "id": "lwSrMJkNiU02"
      }
    },
    {
      "cell_type": "code",
      "source": [
        "def powers_of_two(max_exponent):\n",
        "    for exp in range(max_exponent + 1):\n",
        "        yield 2 ** exp\n",
        "\n",
        "\n",
        "powers = powers_of_two(5)\n",
        "for power in powers:\n",
        "    print(power)"
      ],
      "metadata": {
        "colab": {
          "base_uri": "https://localhost:8080/"
        },
        "id": "vZxFeW_EiCMz",
        "outputId": "982b3185-48c1-4f1b-ea31-7b1a1c0993ba"
      },
      "execution_count": 22,
      "outputs": [
        {
          "output_type": "stream",
          "name": "stdout",
          "text": [
            "1\n",
            "2\n",
            "4\n",
            "8\n",
            "16\n",
            "32\n"
          ]
        }
      ]
    },
    {
      "cell_type": "markdown",
      "source": [
        "7.  Implement a generator function that reads a file line by line and yields each line as a string."
      ],
      "metadata": {
        "id": "I0sh1DCdiqyS"
      }
    },
    {
      "cell_type": "code",
      "source": [
        "def read_file_line_by_line(file_path):\n",
        "    with open(file_path, 'r') as file:\n",
        "        for line in file:\n",
        "            yield line.rstrip('\\n')\n",
        "\n"
      ],
      "metadata": {
        "id": "iyr0VNPLio-p"
      },
      "execution_count": 26,
      "outputs": []
    },
    {
      "cell_type": "markdown",
      "source": [
        "8.  Use a lambda function in Python to sort a list of tuples based on the second element of each tuple."
      ],
      "metadata": {
        "id": "_ESfqonTmQk-"
      }
    },
    {
      "cell_type": "code",
      "source": [
        "# Sample list of tuples\n",
        "my_list = [(1, 3), (2, 1), (4, 2), (5, 0)]\n",
        "\n",
        "# Sorting based on the second element\n",
        "sorted_list = sorted(my_list, key=lambda x: x[1])\n",
        "\n",
        "print(sorted_list)\n"
      ],
      "metadata": {
        "colab": {
          "base_uri": "https://localhost:8080/"
        },
        "id": "jUj1xa_7ivNO",
        "outputId": "caf12b1f-52e7-4de8-f06f-61651d2c4e9d"
      },
      "execution_count": 27,
      "outputs": [
        {
          "output_type": "stream",
          "name": "stdout",
          "text": [
            "[(5, 0), (2, 1), (4, 2), (1, 3)]\n"
          ]
        }
      ]
    },
    {
      "cell_type": "markdown",
      "source": [
        "9.  Write a Python program that uses `map()` to convert a list of temperatures from Celsius to Fahrenheit"
      ],
      "metadata": {
        "id": "D-mzP51Smj1K"
      }
    },
    {
      "cell_type": "code",
      "source": [
        "def celsius_to_fahrenheit(c):\n",
        "    return (c * 9/5) + 32\n",
        "\n",
        "# List of temperatures in Celsius\n",
        "celsius_temps = [0, 20, 37, 100]\n",
        "\n",
        "# Convert using map\n",
        "fahrenheit_temps = list(map(celsius_to_fahrenheit, celsius_temps))\n",
        "\n",
        "print(fahrenheit_temps)\n"
      ],
      "metadata": {
        "colab": {
          "base_uri": "https://localhost:8080/"
        },
        "id": "WKc8lqhomid4",
        "outputId": "91ed3c36-23d7-45f5-d16f-d72c83b97915"
      },
      "execution_count": 29,
      "outputs": [
        {
          "output_type": "stream",
          "name": "stdout",
          "text": [
            "[32.0, 68.0, 98.6, 212.0]\n"
          ]
        }
      ]
    },
    {
      "cell_type": "markdown",
      "source": [
        "10.  Create a Python program that uses `filter()` to remove all the vowels from a given string."
      ],
      "metadata": {
        "id": "HjY9lkRXm0Hz"
      }
    },
    {
      "cell_type": "code",
      "source": [
        "def remove_vowels(string):\n",
        "    vowels = 'aeiouAEIOU'\n",
        "    return ''.join(filter(lambda char: char not in vowels, string))\n",
        "\n",
        "# Example usage\n",
        "input_string = \"Hello World\"\n",
        "result = remove_vowels(input_string)\n",
        "print(result)\n"
      ],
      "metadata": {
        "colab": {
          "base_uri": "https://localhost:8080/"
        },
        "id": "oLYbHsGSmoMW",
        "outputId": "3497de41-425e-4d1d-84d9-273aa6be944f"
      },
      "execution_count": 30,
      "outputs": [
        {
          "output_type": "stream",
          "name": "stdout",
          "text": [
            "Hll Wrld\n"
          ]
        }
      ]
    },
    {
      "cell_type": "code",
      "source": [],
      "metadata": {
        "id": "rPgaX9Nom9bP"
      },
      "execution_count": null,
      "outputs": []
    }
  ]
}